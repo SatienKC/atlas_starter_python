{
 "cells": [
  {
   "cell_type": "code",
   "execution_count": 6,
   "metadata": {},
   "outputs": [
    {
     "name": "stdout",
     "output_type": "stream",
     "text": [
      "Pinged your deployment. You successfully connected to MongoDB!\n"
     ]
    }
   ],
   "source": [
    "import pymongo\n",
    "from pymongo.mongo_client import MongoClient\n",
    "from pymongo.server_api import ServerApi\n",
    "# uri = \"mongodb+srv://Tien:F@cluster0.ngwxw2i.mongodb.net/?retryWrites=true&w=majority\"\n",
    "# Create a new client and connect to the server\n",
    "client = pymongo.MongoClient(\"mongodb+srv://Tien:F@cluster0.ngwxw2i.mongodb.net/?retryWrites=true&w=majority\")\n",
    "# Send a ping to confirm a successful connection\n",
    "try:\n",
    "    client.admin.command('ping')\n",
    "    print(\"Pinged your deployment. You successfully connected to MongoDB!\")\n",
    "except Exception as e:\n",
    "    print(e)"
   ]
  },
  {
   "cell_type": "code",
   "execution_count": 2,
   "metadata": {},
   "outputs": [
    {
     "name": "stdout",
     "output_type": "stream",
     "text": [
      "Inserted document ID: 6507294e664a1c38616a2b10\n",
      "One document: {'_id': ObjectId('6507294e664a1c38616a2b10'), 'name': 'John', 'age': 30, 'city': 'New York'}\n",
      "All documents:\n",
      "{'_id': ObjectId('6507294e664a1c38616a2b10'), 'name': 'John', 'age': 30, 'city': 'New York'}\n"
     ]
    }
   ],
   "source": [
    "# Connect to MongoDB Atlas\n",
    "client = MongoClient(\"mongodb+srv://Tien:F@cluster0.ngwxw2i.mongodb.net/?retryWrites=true&w=majority\")\n",
    "\n",
    "# List all databases to check the connection\n",
    "# print(\"Databases:\", client.list_database_names())\n",
    "\n",
    "# Use a database (it will be created if it doesn't exist)\n",
    "db = client['test_database']\n",
    "\n",
    "# Use a collection (it will be created if it doesn't exist)\n",
    "collection = db['test_collection']\n",
    "\n",
    "# Insert a document into the collection\n",
    "insert_result = collection.insert_one({\"name\": \"John\", \"age\": 30, \"city\": \"New York\"})\n",
    "\n",
    "# Output the ID of the inserted document\n",
    "print(\"Inserted document ID:\", insert_result.inserted_id)\n",
    "\n",
    "# Find and print one document in the collection\n",
    "print(\"One document:\", collection.find_one())\n",
    "\n",
    "# Find and print all documents in the collection\n",
    "print(\"All documents:\")\n",
    "for document in collection.find():\n",
    "    print(document)"
   ]
  },
  {
   "cell_type": "code",
   "execution_count": 3,
   "metadata": {},
   "outputs": [
    {
     "name": "stdout",
     "output_type": "stream",
     "text": [
      "Inserted IDs: [ObjectId('650729fa664a1c38616a2b11'), ObjectId('650729fa664a1c38616a2b12'), ObjectId('650729fa664a1c38616a2b13'), ObjectId('650729fa664a1c38616a2b14')]\n"
     ]
    }
   ],
   "source": [
    "db = client['test_database']\n",
    "\n",
    "# Use a collection (it will be created if it doesn't exist)\n",
    "collection = db['test_collection']\n",
    "\n",
    "# Create a list of dictionaries (each dictionary will be a document)\n",
    "my_list = [\n",
    "    {\"name\": \"John\", \"age\": 30, \"city\": \"New York\"},\n",
    "    {\"name\": \"Marie\", \"age\": 22, \"city\": \"Boston\"},\n",
    "    {\"name\": \"Mike\", \"age\": 32, \"city\": \"Chicago\"},\n",
    "    {\"name\": \"Jenny\", \"age\": 25, \"city\": \"Denver\"}\n",
    "]\n",
    "\n",
    "# Insert multiple documents into the collection\n",
    "insert_results = collection.insert_many(my_list)\n",
    "\n",
    "# Output the IDs of the inserted documents\n",
    "print(\"Inserted IDs:\", insert_results.inserted_ids)"
   ]
  },
  {
   "cell_type": "code",
   "execution_count": 4,
   "metadata": {},
   "outputs": [
    {
     "name": "stdout",
     "output_type": "stream",
     "text": [
      "{'_id': ObjectId('6507294e664a1c38616a2b10'), 'name': 'John', 'age': 30, 'city': 'New York'}\n",
      "{'_id': ObjectId('650729fa664a1c38616a2b11'), 'name': 'John', 'age': 30, 'city': 'New York'}\n",
      "{'_id': ObjectId('650729fa664a1c38616a2b12'), 'name': 'Marie', 'age': 22, 'city': 'Boston'}\n",
      "{'_id': ObjectId('650729fa664a1c38616a2b13'), 'name': 'Mike', 'age': 32, 'city': 'Chicago'}\n",
      "{'_id': ObjectId('650729fa664a1c38616a2b14'), 'name': 'Jenny', 'age': 25, 'city': 'Denver'}\n"
     ]
    }
   ],
   "source": [
    "for document in collection.find():\n",
    "    print(document)"
   ]
  },
  {
   "cell_type": "code",
   "execution_count": 7,
   "metadata": {},
   "outputs": [
    {
     "name": "stdout",
     "output_type": "stream",
     "text": [
      "Multiple documents:\n",
      "{'name': 'John', 'age': 30}\n",
      "{'name': 'John', 'age': 30}\n",
      "{'name': 'Mike', 'age': 32}\n"
     ]
    }
   ],
   "source": [
    "# Connect to MongoDB Atlas\n",
    "client = MongoClient(\"mongodb+srv://Tien:F@cluster0.ngwxw2i.mongodb.net/?retryWrites=true&w=majority\")\n",
    "# Find and print all documents where age > 25, only include 'name' and 'age' keys in the output\n",
    "db = client['test_database']\n",
    "collection = db['test_collection']\n",
    "results = collection.find({\"age\": {\"$gt\": 25}}, {\"_id\": 0, \"name\": 1, \"age\": 1})\n",
    "print(\"Multiple documents:\")\n",
    "for result in results:\n",
    "    print(result)"
   ]
  },
  {
   "cell_type": "code",
   "execution_count": 8,
   "metadata": {},
   "outputs": [
    {
     "data": {
      "text/plain": [
       "<pymongo.results.InsertManyResult at 0x184e89f7d30>"
      ]
     },
     "execution_count": 8,
     "metadata": {},
     "output_type": "execute_result"
    }
   ],
   "source": [
    "db = client['test_database']\n",
    "\n",
    "# Use a collection (it will be created if it doesn't exist)\n",
    "collection = db['test_collection']\n",
    "\n",
    "# Insert some sample documents\n",
    "my_list = [\n",
    "    {\"name\": \"John\", \"age\": 30, \"city\": \"New York\"},\n",
    "    {\"name\": \"Marie\", \"age\": 22, \"city\": \"Boston\"},\n",
    "    {\"name\": \"Mike\", \"age\": 32, \"city\": \"Chicago\"},\n",
    "    {\"name\": \"Jenny\", \"age\": 25, \"city\": \"Denver\"}\n",
    "]\n",
    "collection.insert_many(my_list)"
   ]
  },
  {
   "cell_type": "code",
   "execution_count": 9,
   "metadata": {},
   "outputs": [
    {
     "name": "stdout",
     "output_type": "stream",
     "text": [
      "Documents with age > 25 and city 'New York':\n",
      "{'_id': ObjectId('6507294e664a1c38616a2b10'), 'name': 'John', 'age': 30, 'city': 'New York'}\n",
      "{'_id': ObjectId('650729fa664a1c38616a2b11'), 'name': 'John', 'age': 30, 'city': 'New York'}\n",
      "{'_id': ObjectId('65072e70cfabb3d0ceee800c'), 'name': 'John', 'age': 30, 'city': 'New York'}\n"
     ]
    }
   ],
   "source": [
    "# Find and print documents where age > 25 and city is \"New York\"\n",
    "print(\"Documents with age > 25 and city 'New York':\")\n",
    "results = collection.find({\"$and\": [{\"age\": {\"$gt\": 25}}, {\"city\": \"New York\"}]})\n",
    "for result in results:\n",
    "    print(result)"
   ]
  },
  {
   "cell_type": "code",
   "execution_count": 10,
   "metadata": {},
   "outputs": [
    {
     "name": "stdout",
     "output_type": "stream",
     "text": [
      "Documents with age > 25, city 'New York', and name 'John':\n",
      "{'_id': ObjectId('6507294e664a1c38616a2b10'), 'name': 'John', 'age': 30, 'city': 'New York'}\n",
      "{'_id': ObjectId('650729fa664a1c38616a2b11'), 'name': 'John', 'age': 30, 'city': 'New York'}\n",
      "{'_id': ObjectId('65072e70cfabb3d0ceee800c'), 'name': 'John', 'age': 30, 'city': 'New York'}\n",
      "{'_id': ObjectId('65072f7bcfabb3d0ceee8010'), 'name': 'John', 'age': 30, 'city': 'New York'}\n",
      "Documents with age > 25 and either city 'New York' or name 'John':\n",
      "{'_id': ObjectId('6507294e664a1c38616a2b10'), 'name': 'John', 'age': 30, 'city': 'New York'}\n",
      "{'_id': ObjectId('650729fa664a1c38616a2b11'), 'name': 'John', 'age': 30, 'city': 'New York'}\n",
      "{'_id': ObjectId('65072e70cfabb3d0ceee800c'), 'name': 'John', 'age': 30, 'city': 'New York'}\n",
      "{'_id': ObjectId('65072f7bcfabb3d0ceee8010'), 'name': 'John', 'age': 30, 'city': 'New York'}\n"
     ]
    }
   ],
   "source": [
    "# Use a database (it will be created if it doesn't exist)\n",
    "db = client['test_database']\n",
    "\n",
    "# Use a collection (it will be created if it doesn't exist)\n",
    "collection = db['test_collection']\n",
    "\n",
    "# Insert some sample documents\n",
    "my_list = [\n",
    "    {\"name\": \"John\", \"age\": 30, \"city\": \"New York\"},\n",
    "    {\"name\": \"Marie\", \"age\": 22, \"city\": \"Boston\"},\n",
    "    {\"name\": \"Mike\", \"age\": 32, \"city\": \"Chicago\"},\n",
    "    {\"name\": \"Jenny\", \"age\": 25, \"city\": \"Denver\"}\n",
    "]\n",
    "collection.insert_many(my_list)\n",
    "\n",
    "# Find and print documents where age > 25, city is \"New York\", and name is \"John\"\n",
    "print(\"Documents with age > 25, city 'New York', and name 'John':\")\n",
    "results = collection.find({\n",
    "    \"$and\": [\n",
    "        {\"age\": {\"$gt\": 25}}, \n",
    "        {\"city\": \"New York\"}, \n",
    "        {\"name\": \"John\"}\n",
    "    ]\n",
    "})\n",
    "for result in results:\n",
    "    print(result)\n",
    "\n",
    "# Find and print documents where age > 25 and either city is \"New York\" or name is \"John\"\n",
    "print(\"Documents with age > 25 and either city 'New York' or name 'John':\")\n",
    "results = collection.find({\n",
    "    \"$and\": [\n",
    "        {\"age\": {\"$gt\": 25}}, \n",
    "        {\"$or\": [{\"city\": \"New York\"}, {\"name\": \"John\"}]}\n",
    "    ]\n",
    "})\n",
    "for result in results:\n",
    "    print(result)"
   ]
  },
  {
   "cell_type": "code",
   "execution_count": null,
   "metadata": {},
   "outputs": [],
   "source": []
  }
 ],
 "metadata": {
  "kernelspec": {
   "display_name": "ML",
   "language": "python",
   "name": "python3"
  },
  "language_info": {
   "codemirror_mode": {
    "name": "ipython",
    "version": 3
   },
   "file_extension": ".py",
   "mimetype": "text/x-python",
   "name": "python",
   "nbconvert_exporter": "python",
   "pygments_lexer": "ipython3",
   "version": "3.11.4"
  },
  "orig_nbformat": 4
 },
 "nbformat": 4,
 "nbformat_minor": 2
}
